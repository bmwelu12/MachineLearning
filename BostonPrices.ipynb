{
  "nbformat": 4,
  "nbformat_minor": 0,
  "metadata": {
    "colab": {
      "provenance": []
    },
    "kernelspec": {
      "name": "python3",
      "display_name": "Python 3"
    },
    "language_info": {
      "name": "python"
    }
  },
  "cells": [
    {
      "cell_type": "code",
      "execution_count": null,
      "metadata": {
        "id": "QQxzfCYNuj-I"
      },
      "outputs": [],
      "source": [
        "#import dependencies\n",
        "import pandas as pd\n",
        "import numpy as np\n",
        "from sklearn import linear_model\n",
        "from sklearn.model_selection import train_test_split\n",
        "\n",
        "\n"
      ]
    },
    {
      "cell_type": "code",
      "source": [
        "#load the Boston Housing Data Set\n",
        "from sklearn.datasets import load_boston\n",
        "boston= load_boston()\n",
        "print(boston)"
      ],
      "metadata": {
        "id": "nPeUzV2gudTF"
      },
      "execution_count": null,
      "outputs": []
    },
    {
      "cell_type": "code",
      "source": [
        " # data set into a data frame\n",
        "df_x = pd.DataFrame(boston.data,columns=boston.feature_names)\n",
        "df_y = pd.DataFrame(boston.target)\n"
      ],
      "metadata": {
        "id": "cEW56iPicYcT"
      },
      "execution_count": null,
      "outputs": []
    },
    {
      "cell_type": "code",
      "source": [
        "df_x.describe()                                       "
      ],
      "metadata": {
        "id": "wmuxwbTmwU2q"
      },
      "execution_count": null,
      "outputs": []
    },
    {
      "cell_type": "code",
      "source": [
        "#initialize the linear regression model\n",
        "reg = linear_model.LinearRegression()"
      ],
      "metadata": {
        "id": "X8j24qycxQA9"
      },
      "execution_count": null,
      "outputs": []
    },
    {
      "cell_type": "code",
      "source": [
        "#split the data into 67% training and 33% testng data\n",
        "x_train,x_test,y_train,y_test = train_test_split(df_x,df_y,test_size=0.33,random_state =42)"
      ],
      "metadata": {
        "id": "4VFjnHzzxiLN"
      },
      "execution_count": null,
      "outputs": []
    },
    {
      "cell_type": "code",
      "source": [
        "#Train the model\n",
        "reg.fit(x_train,y_train)"
      ],
      "metadata": {
        "id": "jyeYCH7d0Jvs",
        "colab": {
          "base_uri": "https://localhost:8080/"
        },
        "outputId": "eeab3b43-c542-4534-aacf-0d98f1fd4335"
      },
      "execution_count": null,
      "outputs": [
        {
          "output_type": "execute_result",
          "data": {
            "text/plain": [
              "LinearRegression()"
            ]
          },
          "metadata": {},
          "execution_count": 7
        }
      ]
    },
    {
      "cell_type": "code",
      "source": [
        "#Print the coeffiecients/weights for each feature/column of our model\n",
        "print(reg.coef_)"
      ],
      "metadata": {
        "id": "7KQDDUTZ0W1b",
        "colab": {
          "base_uri": "https://localhost:8080/"
        },
        "outputId": "02c38d01-eb9a-4a22-d7df-ac6b7ca0e25e"
      },
      "execution_count": null,
      "outputs": [
        {
          "output_type": "stream",
          "name": "stdout",
          "text": [
            "[[-1.28749718e-01  3.78232228e-02  5.82109233e-02  3.23866812e+00\n",
            "  -1.61698120e+01  3.90205116e+00 -1.28507825e-02 -1.42222430e+00\n",
            "   2.34853915e-01 -8.21331947e-03 -9.28722459e-01  1.17695921e-02\n",
            "  -5.47566338e-01]]\n"
          ]
        }
      ]
    },
    {
      "cell_type": "code",
      "source": [
        "#print the predictions on our test data\n",
        "y_pred = reg.predict(x_test)\n",
        "print(y_pred)"
      ],
      "metadata": {
        "id": "BBKnARQ90tpx"
      },
      "execution_count": null,
      "outputs": []
    },
    {
      "cell_type": "code",
      "source": [
        "#print\n",
        "print(y_test)"
      ],
      "metadata": {
        "id": "V0mzHYPW1d5G"
      },
      "execution_count": null,
      "outputs": []
    },
    {
      "cell_type": "code",
      "source": [
        "#check the model perfomance / accuacy using Mean Squared Error (MSE)\n",
        "print(np.mean(y_pred - y_test)**2)\n"
      ],
      "metadata": {
        "id": "DcJ2pHHe15IC"
      },
      "execution_count": null,
      "outputs": []
    },
    {
      "cell_type": "code",
      "source": [
        "from sklearn.metrics import mean_squared_error\n",
        "print(mean_squared_error(y_test,y_pred))"
      ],
      "metadata": {
        "id": "zORKiBOK2pGl"
      },
      "execution_count": null,
      "outputs": []
    }
  ]
}